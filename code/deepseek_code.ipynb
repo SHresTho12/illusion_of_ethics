{
 "cells": [
  {
   "cell_type": "code",
   "execution_count": 10,
   "id": "6dcd7d3e",
   "metadata": {},
   "outputs": [],
   "source": [
    "\n",
    "import os\n",
    "import json\n",
    "# from google.colab import userdata\n",
    "from dotenv import load_dotenv\n",
    "from openai import OpenAI\n",
    "from pydantic import BaseModel"
   ]
  },
  {
   "cell_type": "code",
   "execution_count": 11,
   "id": "440497ef",
   "metadata": {},
   "outputs": [
    {
     "name": "stdout",
     "output_type": "stream",
     "text": [
      "API Key loaded successfully.\n"
     ]
    }
   ],
   "source": [
    "class Response(BaseModel):\n",
    "    response: str\n",
    "\n",
    "# Load environment variables from .env file\n",
    "load_dotenv()\n",
    "\n",
    "# Now you can access variables using os.getenv()\n",
    "api_key = os.getenv(\"DEEP_SEEK_API_KEY\")\n",
    "if api_key is None:\n",
    "    raise ValueError(\"API key not found. Please set the GENAI_API_KEY environment variable.\")\n",
    "print(\"API Key loaded successfully.\")\n",
    "# Initialize OpenAI API client\n",
    "client = OpenAI(api_key=api_key, base_url=\"https://api.deepseek.com\")"
   ]
  }
 ],
 "metadata": {
  "kernelspec": {
   "display_name": "ethics-kernal",
   "language": "python",
   "name": "ethics-kernal"
  },
  "language_info": {
   "codemirror_mode": {
    "name": "ipython",
    "version": 3
   },
   "file_extension": ".py",
   "mimetype": "text/x-python",
   "name": "python",
   "nbconvert_exporter": "python",
   "pygments_lexer": "ipython3",
   "version": "3.13.2"
  }
 },
 "nbformat": 4,
 "nbformat_minor": 5
}
